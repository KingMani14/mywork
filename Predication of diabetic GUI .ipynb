{
 "cells": [
  {
   "cell_type": "code",
   "execution_count": 3,
   "id": "789cde51",
   "metadata": {},
   "outputs": [],
   "source": [
    "import tkinter as tk\n",
    "from tkinter import messagebox\n",
    "from sklearn.preprocessing import StandardScaler\n",
    "import joblib\n",
    "\n",
    "# Load the pre-trained models and scaler\n",
    "lr = joblib.load('logistic_regression_model.pkl')\n",
    "rf_classifier = joblib.load('random_forest_model.pkl')\n",
    "svm = joblib.load('svm_model.pkl')\n",
    "scaler = joblib.load('scaler.pkl')\n",
    "\n",
    "# Create the main application window\n",
    "app = tk.Tk()\n",
    "app.title(\"Diabetes Prediction\")\n",
    "\n",
    "# Create input fields\n",
    "labels = ['Pregnancies', 'Glucose', 'BloodPressure', 'Insulin', 'BMI', 'DiabetesPedigreeFunction', 'Age']\n",
    "entries = []\n",
    "\n",
    "for label in labels:\n",
    "    row = tk.Frame(app)\n",
    "    lab = tk.Label(row, width=20, text=label, anchor='w')\n",
    "    ent = tk.Entry(row)\n",
    "    row.pack(side=tk.TOP, fill=tk.X, padx=5, pady=5)\n",
    "    lab.pack(side=tk.LEFT)\n",
    "    ent.pack(side=tk.RIGHT, expand=tk.YES, fill=tk.X)\n",
    "    entries.append(ent)\n",
    "\n",
    "# Prediction function\n",
    "def predict():\n",
    "    input_data = [float(entry.get()) for entry in entries]\n",
    "    input_data_as_numpy_array = scaler.transform([input_data])\n",
    "    \n",
    "    prediction_lr = lr.predict(input_data_as_numpy_array)\n",
    "    prediction_rf = rf_classifier.predict(input_data_as_numpy_array)\n",
    "    prediction_svm = svm.predict(input_data_as_numpy_array)\n",
    "    \n",
    "    if prediction_lr[0] == 0:\n",
    "        result_lr.config(text=\"LR: Not Diabetic\")\n",
    "    else:\n",
    "        result_lr.config(text=\"LR: Diabetic\")\n",
    "    \n",
    "    if prediction_rf[0] == 0:\n",
    "        result_rf.config(text=\"RF: Not Diabetic\")\n",
    "    else:\n",
    "        result_rf.config(text=\"RF: Diabetic\")\n",
    "    \n",
    "    if prediction_svm[0] == 0:\n",
    "        result_svm.config(text=\"SVM: Not Diabetic\")\n",
    "    else:\n",
    "        result_svm.config(text=\"SVM: Diabetic\")\n",
    "\n",
    "# Create a prediction button\n",
    "predict_button = tk.Button(app, text=\"Predict\", command=predict)\n",
    "predict_button.pack()\n",
    "\n",
    "# Create labels to display predictions\n",
    "result_lr = tk.Label(app, text=\"LR Prediction will appear here\")\n",
    "result_lr.pack()\n",
    "result_rf = tk.Label(app, text=\"RF Prediction will appear here\")\n",
    "result_rf.pack()\n",
    "result_svm = tk.Label(app, text=\"SVM Prediction will appear here\")\n",
    "result_svm.pack()\n",
    "\n",
    "# Start the GUI event loop\n",
    "app.mainloop()\n"
   ]
  },
  {
   "cell_type": "code",
   "execution_count": null,
   "id": "bba4c95d",
   "metadata": {},
   "outputs": [],
   "source": [
    "3,163,70,,105,31.6,0.268,28,1"
   ]
  },
  {
   "cell_type": "code",
   "execution_count": null,
   "id": "1144ffaa",
   "metadata": {},
   "outputs": [],
   "source": [
    "1,139,62,480,40.7,0.536,21,0"
   ]
  }
 ],
 "metadata": {
  "kernelspec": {
   "display_name": "Python 3",
   "language": "python",
   "name": "python3"
  },
  "language_info": {
   "codemirror_mode": {
    "name": "ipython",
    "version": 3
   },
   "file_extension": ".py",
   "mimetype": "text/x-python",
   "name": "python",
   "nbconvert_exporter": "python",
   "pygments_lexer": "ipython3",
   "version": "3.8.8"
  }
 },
 "nbformat": 4,
 "nbformat_minor": 5
}
